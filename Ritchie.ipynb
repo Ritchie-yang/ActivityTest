{
  "nbformat": 4,
  "nbformat_minor": 0,
  "metadata": {
    "colab": {
      "name": "Ritchie.ipynb",
      "provenance": [],
      "mount_file_id": "1Y-si88NO_qNFBAqPdFsG_4KFkLipNh5w",
      "authorship_tag": "ABX9TyOk+WiCt+DpwIt5vxWkkRfC",
      "include_colab_link": true
    },
    "kernelspec": {
      "name": "python3",
      "display_name": "Python 3"
    },
    "language_info": {
      "name": "python"
    }
  },
  "cells": [
    {
      "cell_type": "markdown",
      "metadata": {
        "id": "view-in-github",
        "colab_type": "text"
      },
      "source": [
        "<a href=\"https://colab.research.google.com/github/Ritchie-yang/ActivityTest/blob/master/Ritchie.ipynb\" target=\"_parent\"><img src=\"https://colab.research.google.com/assets/colab-badge.svg\" alt=\"Open In Colab\"/></a>"
      ]
    },
    {
      "cell_type": "markdown",
      "metadata": {
        "id": "-WdrOp9oVd3H"
      },
      "source": [
        "dsd"
      ]
    },
    {
      "cell_type": "code",
      "metadata": {
        "colab": {
          "base_uri": "https://localhost:8080/"
        },
        "id": "f7guPM43L0WY",
        "outputId": "5352b599-f616-45d4-8017-e848d245b9f4"
      },
      "source": [
        "with open('/content/drive/My Drive/foo.txt', 'w') as f:\n",
        "  f.write('Hello Google dfsd  Drive!')\n",
        "!cat /content/drive/My\\ Drive/foo.txt"
      ],
      "execution_count": 3,
      "outputs": [
        {
          "output_type": "stream",
          "name": "stdout",
          "text": [
            "Hello Google dfsd  Drive!"
          ]
        }
      ]
    }
  ]
}